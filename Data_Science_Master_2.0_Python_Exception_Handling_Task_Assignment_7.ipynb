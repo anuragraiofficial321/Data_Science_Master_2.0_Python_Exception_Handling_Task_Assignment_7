{
 "cells": [
  {
   "cell_type": "markdown",
   "metadata": {},
   "source": [
    "### Q1:What is an Exception in python? Write the difference between Exceptions and Syntax errors\n",
    "\n",
    "### Answer:\n",
    "- In Python, an exception is an event that occurs during the execution of a program,disruption the normal flow of the program's instruction\n",
    "\n",
    "- An exception in Python refers to a runtime error that occurs when executing a program. It represents an abnormal condition during execution of a script or code,\n",
    "\n",
    "- It is an error that is detected during execution.\n",
    "\n",
    "### For example:\n",
    "\n",
    "- when we divide any number by zero, the ZeroDivisionError exception is raised.\n",
    "\n",
    "### Syntax Error:\n",
    "\n",
    "- This type of error occurs when the proper syntax of the language is not followed.\n",
    "\n",
    "- It leads to the termination of the program. \n",
    "\n",
    "### For example:\n",
    "- if a colon : is missing after an if statement, a syntax error message is returned because Python doesn’t understand what to do with the code"
   ]
  },
  {
   "cell_type": "code",
   "execution_count": 1,
   "metadata": {},
   "outputs": [
    {
     "ename": "SyntaxError",
     "evalue": "expected ':' (3360149390.py, line 2)",
     "output_type": "error",
     "traceback": [
      "\u001b[1;36m  Cell \u001b[1;32mIn[1], line 2\u001b[1;36m\u001b[0m\n\u001b[1;33m    if x==1\u001b[0m\n\u001b[1;37m           ^\u001b[0m\n\u001b[1;31mSyntaxError\u001b[0m\u001b[1;31m:\u001b[0m expected ':'\n"
     ]
    }
   ],
   "source": [
    "x=1\n",
    "if x==1\n",
    "  print(\"it is 1\")"
   ]
  },
  {
   "cell_type": "markdown",
   "metadata": {},
   "source": [
    "### Exceptions(Logical Error):\n",
    "- Exceptions occur during runtime after passing the syntax test.\n",
    "- They are caused by logical errors in the code or data that we need to correct.\n",
    "- They are raised when some internal events occur which change the normal flow of the program.\n",
    "\n",
    "### For Example:\n",
    "\n",
    "- 1. **Divide by Zero**(ZeroDivisionError): This is a logical error that occurs when we try to divide a number by zero."
   ]
  },
  {
   "cell_type": "code",
   "execution_count": 2,
   "metadata": {},
   "outputs": [
    {
     "ename": "ZeroDivisionError",
     "evalue": "division by zero",
     "output_type": "error",
     "traceback": [
      "\u001b[1;31m---------------------------------------------------------------------------\u001b[0m",
      "\u001b[1;31mZeroDivisionError\u001b[0m                         Traceback (most recent call last)",
      "\u001b[1;32md:\\2_Data_Science_Master\\Data_Science_Master_2.0_Python_Exception_Handling_Task_Assignment_7\\Data_Science_Master_2.0_Python_Exception_Handling_Task_Assignment_7.ipynb Cell 4\u001b[0m line \u001b[0;36m2\n\u001b[0;32m      <a href='vscode-notebook-cell:/d%3A/2_Data_Science_Master/Data_Science_Master_2.0_Python_Exception_Handling_Task_Assignment_7/Data_Science_Master_2.0_Python_Exception_Handling_Task_Assignment_7.ipynb#W4sZmlsZQ%3D%3D?line=0'>1</a>\u001b[0m \u001b[39m# Example\u001b[39;00m\n\u001b[1;32m----> <a href='vscode-notebook-cell:/d%3A/2_Data_Science_Master/Data_Science_Master_2.0_Python_Exception_Handling_Task_Assignment_7/Data_Science_Master_2.0_Python_Exception_Handling_Task_Assignment_7.ipynb#W4sZmlsZQ%3D%3D?line=1'>2</a>\u001b[0m \u001b[39mprint\u001b[39m(\u001b[39m1\u001b[39;49m\u001b[39m/\u001b[39;49m\u001b[39m0\u001b[39;49m)  \u001b[39m# Division by zero\u001b[39;00m\n",
      "\u001b[1;31mZeroDivisionError\u001b[0m: division by zero"
     ]
    }
   ],
   "source": [
    "# Example\n",
    "print(1/0)  # Division by zero"
   ]
  },
  {
   "cell_type": "markdown",
   "metadata": {},
   "source": [
    "- FileNotFoundError: Occurs when trying to open a file (for reading) that does not exist"
   ]
  },
  {
   "cell_type": "code",
   "execution_count": 3,
   "metadata": {},
   "outputs": [
    {
     "ename": "FileNotFoundError",
     "evalue": "[Errno 2] No such file or directory: 'non_existent_file.txt'",
     "output_type": "error",
     "traceback": [
      "\u001b[1;31m---------------------------------------------------------------------------\u001b[0m",
      "\u001b[1;31mFileNotFoundError\u001b[0m                         Traceback (most recent call last)",
      "\u001b[1;32md:\\2_Data_Science_Master\\Data_Science_Master_2.0_Python_Exception_Handling_Task_Assignment_7\\Data_Science_Master_2.0_Python_Exception_Handling_Task_Assignment_7.ipynb Cell 6\u001b[0m line \u001b[0;36m2\n\u001b[0;32m      <a href='vscode-notebook-cell:/d%3A/2_Data_Science_Master/Data_Science_Master_2.0_Python_Exception_Handling_Task_Assignment_7/Data_Science_Master_2.0_Python_Exception_Handling_Task_Assignment_7.ipynb#W6sZmlsZQ%3D%3D?line=0'>1</a>\u001b[0m \u001b[39m# Example\u001b[39;00m\n\u001b[1;32m----> <a href='vscode-notebook-cell:/d%3A/2_Data_Science_Master/Data_Science_Master_2.0_Python_Exception_Handling_Task_Assignment_7/Data_Science_Master_2.0_Python_Exception_Handling_Task_Assignment_7.ipynb#W6sZmlsZQ%3D%3D?line=1'>2</a>\u001b[0m \u001b[39mwith\u001b[39;00m \u001b[39mopen\u001b[39;49m(\u001b[39m'\u001b[39;49m\u001b[39mnon_existent_file.txt\u001b[39;49m\u001b[39m'\u001b[39;49m, \u001b[39m'\u001b[39;49m\u001b[39mr\u001b[39;49m\u001b[39m'\u001b[39;49m) \u001b[39mas\u001b[39;00m file:  \u001b[39m# File does not exist\u001b[39;00m\n\u001b[0;32m      <a href='vscode-notebook-cell:/d%3A/2_Data_Science_Master/Data_Science_Master_2.0_Python_Exception_Handling_Task_Assignment_7/Data_Science_Master_2.0_Python_Exception_Handling_Task_Assignment_7.ipynb#W6sZmlsZQ%3D%3D?line=2'>3</a>\u001b[0m     \u001b[39mprint\u001b[39m(file\u001b[39m.\u001b[39mread())\n",
      "File \u001b[1;32mc:\\Users\\raian\\anaconda3\\Lib\\site-packages\\IPython\\core\\interactiveshell.py:284\u001b[0m, in \u001b[0;36m_modified_open\u001b[1;34m(file, *args, **kwargs)\u001b[0m\n\u001b[0;32m    277\u001b[0m \u001b[39mif\u001b[39;00m file \u001b[39min\u001b[39;00m {\u001b[39m0\u001b[39m, \u001b[39m1\u001b[39m, \u001b[39m2\u001b[39m}:\n\u001b[0;32m    278\u001b[0m     \u001b[39mraise\u001b[39;00m \u001b[39mValueError\u001b[39;00m(\n\u001b[0;32m    279\u001b[0m         \u001b[39mf\u001b[39m\u001b[39m\"\u001b[39m\u001b[39mIPython won\u001b[39m\u001b[39m'\u001b[39m\u001b[39mt let you open fd=\u001b[39m\u001b[39m{\u001b[39;00mfile\u001b[39m}\u001b[39;00m\u001b[39m by default \u001b[39m\u001b[39m\"\u001b[39m\n\u001b[0;32m    280\u001b[0m         \u001b[39m\"\u001b[39m\u001b[39mas it is likely to crash IPython. If you know what you are doing, \u001b[39m\u001b[39m\"\u001b[39m\n\u001b[0;32m    281\u001b[0m         \u001b[39m\"\u001b[39m\u001b[39myou can use builtins\u001b[39m\u001b[39m'\u001b[39m\u001b[39m open.\u001b[39m\u001b[39m\"\u001b[39m\n\u001b[0;32m    282\u001b[0m     )\n\u001b[1;32m--> 284\u001b[0m \u001b[39mreturn\u001b[39;00m io_open(file, \u001b[39m*\u001b[39;49margs, \u001b[39m*\u001b[39;49m\u001b[39m*\u001b[39;49mkwargs)\n",
      "\u001b[1;31mFileNotFoundError\u001b[0m: [Errno 2] No such file or directory: 'non_existent_file.txt'"
     ]
    }
   ],
   "source": [
    "# Example\n",
    "with open('non_existent_file.txt', 'r') as file:  # File does not exist\n",
    "    print(file.read())\n"
   ]
  },
  {
   "cell_type": "markdown",
   "metadata": {},
   "source": [
    "- ImportError: Occurs when trying to import a module that does not exist."
   ]
  },
  {
   "cell_type": "code",
   "execution_count": 5,
   "metadata": {},
   "outputs": [
    {
     "ename": "ModuleNotFoundError",
     "evalue": "No module named 'non_existent_module'",
     "output_type": "error",
     "traceback": [
      "\u001b[1;31m---------------------------------------------------------------------------\u001b[0m",
      "\u001b[1;31mModuleNotFoundError\u001b[0m                       Traceback (most recent call last)",
      "\u001b[1;32md:\\2_Data_Science_Master\\Data_Science_Master_2.0_Python_Exception_Handling_Task_Assignment_7\\Data_Science_Master_2.0_Python_Exception_Handling_Task_Assignment_7.ipynb Cell 8\u001b[0m line \u001b[0;36m2\n\u001b[0;32m      <a href='vscode-notebook-cell:/d%3A/2_Data_Science_Master/Data_Science_Master_2.0_Python_Exception_Handling_Task_Assignment_7/Data_Science_Master_2.0_Python_Exception_Handling_Task_Assignment_7.ipynb#X11sZmlsZQ%3D%3D?line=0'>1</a>\u001b[0m \u001b[39m# Example\u001b[39;00m\n\u001b[1;32m----> <a href='vscode-notebook-cell:/d%3A/2_Data_Science_Master/Data_Science_Master_2.0_Python_Exception_Handling_Task_Assignment_7/Data_Science_Master_2.0_Python_Exception_Handling_Task_Assignment_7.ipynb#X11sZmlsZQ%3D%3D?line=1'>2</a>\u001b[0m \u001b[39mimport\u001b[39;00m \u001b[39mnon_existent_module\u001b[39;00m  \u001b[39m# Module does not exist\u001b[39;00m\n",
      "\u001b[1;31mModuleNotFoundError\u001b[0m: No module named 'non_existent_module'"
     ]
    }
   ],
   "source": [
    "# Example\n",
    "import non_existent_module  # Module does not exist\n"
   ]
  },
  {
   "cell_type": "markdown",
   "metadata": {},
   "source": [
    "### Note:Python provides mechanisms to handle exceptions which include try...except"
   ]
  },
  {
   "cell_type": "markdown",
   "metadata": {},
   "source": [
    "### Q2: What happens when an exception is not handled? Explain with an example.\n",
    "\n",
    "### Answer:\n",
    "- When an exception is not handled in Python,it causes the program to stop running and an eror message is displyed.\n",
    "- This is known as an unhandled exception.\n",
    "- Unhandled exception can disrupt the normal flow of a program and usually end it abruptly\n",
    "\n"
   ]
  },
  {
   "cell_type": "code",
   "execution_count": null,
   "metadata": {},
   "outputs": [],
   "source": [
    "def divide_numbers(numerator, denominator):\n",
    "    return numerator / denominator\n",
    "\n",
    "print(divide_numbers(10, 0))\n"
   ]
  },
  {
   "cell_type": "markdown",
   "metadata": {},
   "source": [
    "- In this example, we’re trying to divide a number by zero, which is not allowed in mathematics.\n",
    "- Python raises a ZeroDivisionError exception when it encounters this operation.\n",
    "- If we don’t handle this exception using a try...except block, it becomes an unhandled exception.\n",
    "- The program will stop running and display an error"
   ]
  },
  {
   "cell_type": "code",
   "execution_count": 6,
   "metadata": {},
   "outputs": [
    {
     "ename": "ZeroDivisionError",
     "evalue": "division by zero",
     "output_type": "error",
     "traceback": [
      "\u001b[1;31m---------------------------------------------------------------------------\u001b[0m",
      "\u001b[1;31mZeroDivisionError\u001b[0m                         Traceback (most recent call last)",
      "\u001b[1;32md:\\2_Data_Science_Master\\Data_Science_Master_2.0_Python_Exception_Handling_Task_Assignment_7\\Data_Science_Master_2.0_Python_Exception_Handling_Task_Assignment_7.ipynb Cell 11\u001b[0m line \u001b[0;36m4\n\u001b[0;32m      <a href='vscode-notebook-cell:/d%3A/2_Data_Science_Master/Data_Science_Master_2.0_Python_Exception_Handling_Task_Assignment_7/Data_Science_Master_2.0_Python_Exception_Handling_Task_Assignment_7.ipynb#X14sZmlsZQ%3D%3D?line=0'>1</a>\u001b[0m \u001b[39mdef\u001b[39;00m \u001b[39mdivide_numbers\u001b[39m(numerator, denominator):\n\u001b[0;32m      <a href='vscode-notebook-cell:/d%3A/2_Data_Science_Master/Data_Science_Master_2.0_Python_Exception_Handling_Task_Assignment_7/Data_Science_Master_2.0_Python_Exception_Handling_Task_Assignment_7.ipynb#X14sZmlsZQ%3D%3D?line=1'>2</a>\u001b[0m     \u001b[39mreturn\u001b[39;00m numerator \u001b[39m/\u001b[39m denominator\n\u001b[1;32m----> <a href='vscode-notebook-cell:/d%3A/2_Data_Science_Master/Data_Science_Master_2.0_Python_Exception_Handling_Task_Assignment_7/Data_Science_Master_2.0_Python_Exception_Handling_Task_Assignment_7.ipynb#X14sZmlsZQ%3D%3D?line=3'>4</a>\u001b[0m \u001b[39mprint\u001b[39m(divide_numbers(\u001b[39m10\u001b[39;49m, \u001b[39m0\u001b[39;49m))\n",
      "\u001b[1;32md:\\2_Data_Science_Master\\Data_Science_Master_2.0_Python_Exception_Handling_Task_Assignment_7\\Data_Science_Master_2.0_Python_Exception_Handling_Task_Assignment_7.ipynb Cell 11\u001b[0m line \u001b[0;36m2\n\u001b[0;32m      <a href='vscode-notebook-cell:/d%3A/2_Data_Science_Master/Data_Science_Master_2.0_Python_Exception_Handling_Task_Assignment_7/Data_Science_Master_2.0_Python_Exception_Handling_Task_Assignment_7.ipynb#X14sZmlsZQ%3D%3D?line=0'>1</a>\u001b[0m \u001b[39mdef\u001b[39;00m \u001b[39mdivide_numbers\u001b[39m(numerator, denominator):\n\u001b[1;32m----> <a href='vscode-notebook-cell:/d%3A/2_Data_Science_Master/Data_Science_Master_2.0_Python_Exception_Handling_Task_Assignment_7/Data_Science_Master_2.0_Python_Exception_Handling_Task_Assignment_7.ipynb#X14sZmlsZQ%3D%3D?line=1'>2</a>\u001b[0m     \u001b[39mreturn\u001b[39;00m numerator \u001b[39m/\u001b[39;49m denominator\n",
      "\u001b[1;31mZeroDivisionError\u001b[0m: division by zero"
     ]
    }
   ],
   "source": []
  },
  {
   "cell_type": "markdown",
   "metadata": {},
   "source": [
    "- This output shows that our program has encountered a ZeroDivisionError, which we did not handle, thus leading to the abrupt termination of the program"
   ]
  },
  {
   "cell_type": "markdown",
   "metadata": {},
   "source": [
    "### Q3: Which Python statements are used to catch and handle exceptions? Explain with an example. \n",
    "\n",
    "### Answer:\n",
    "- In Python, there are several ways to catch and handle exceptions using the built-in exception handling mechanism.\n",
    "\n",
    "### try...except:\n",
    "block is used to catch and handle exceptions.\n",
    "\n",
    "- The try block contains the code that might generate an exception.\n",
    "- If an exception occurs, the rest of the code inside the try block is skipped.\n",
    "- The except block catches the exception and executes its code.\n",
    "- If none of the statements in the try block generates an exception, the except block is skipped\n"
   ]
  },
  {
   "cell_type": "code",
   "execution_count": 7,
   "metadata": {},
   "outputs": [
    {
     "name": "stdout",
     "output_type": "stream",
     "text": [
      "Error: Denominator cannot be 0.\n"
     ]
    }
   ],
   "source": [
    "try:\n",
    "    numerator = 10\n",
    "    denominator = 0\n",
    "    result = numerator / denominator\n",
    "    print(result)\n",
    "except:\n",
    "    print(\"Error: Denominator cannot be 0.\")\n"
   ]
  },
  {
   "cell_type": "markdown",
   "metadata": {},
   "source": [
    "- We can also catch specific exceptions by specifying the exception type in the except clause. For example"
   ]
  },
  {
   "cell_type": "code",
   "execution_count": 8,
   "metadata": {},
   "outputs": [
    {
     "name": "stdout",
     "output_type": "stream",
     "text": [
      "Index Out of Bound.\n"
     ]
    }
   ],
   "source": [
    "try:\n",
    "    even_numbers = [2,4,6,8]\n",
    "    print(even_numbers[5])\n",
    "except IndexError:\n",
    "    print(\"Index Out of Bound.\")\n"
   ]
  },
  {
   "cell_type": "markdown",
   "metadata": {},
   "source": [
    "### Q4: Explain with an example:\n",
    "a) try and else\n",
    "\n",
    "b) finall \n",
    "\n",
    "c) raise \n",
    "\n",
    "### Answer:\n",
    "### a) try and else:\n",
    "- The try block contains the code that might generate an exception.\n",
    "- If an exception occurs, the rest of the code inside the try block is skipped.\n",
    "- The else block is executed if no exceptions occur in the try block\n"
   ]
  },
  {
   "cell_type": "code",
   "execution_count": 9,
   "metadata": {},
   "outputs": [
    {
     "name": "stdout",
     "output_type": "stream",
     "text": [
      "Hello\n",
      "Nothing went wrong\n"
     ]
    }
   ],
   "source": [
    "try:\n",
    "    print(\"Hello\")\n",
    "except:\n",
    "    print(\"Something went wrong\")\n",
    "else:\n",
    "    print(\"Nothing went wrong\")\n"
   ]
  },
  {
   "cell_type": "markdown",
   "metadata": {},
   "source": [
    "- In this example, Hello is printed, and since no exceptions occur in the try block, Nothing went wrong is also printed\n",
    "\n",
    "### b) finally:\n",
    "- The finally block is always executed after leaving the try statement, regardless of whether an exception has occurred or not"
   ]
  },
  {
   "cell_type": "code",
   "execution_count": 10,
   "metadata": {},
   "outputs": [
    {
     "name": "stdout",
     "output_type": "stream",
     "text": [
      "Something went wrong\n",
      "The 'try except' is finished\n"
     ]
    }
   ],
   "source": [
    "try:\n",
    "    print(x)\n",
    "except:\n",
    "    print(\"Something went wrong\")\n",
    "finally:\n",
    "    print(\"The 'try except' is finished\")\n"
   ]
  },
  {
   "cell_type": "markdown",
   "metadata": {},
   "source": [
    "In this example, \n",
    "- if x is not defined, Something went wrong will be printed, followed by The try except is finished.\n",
    "\n",
    "- If x is defined, x will be printed, followed by \"The try except is finished\n",
    "\n",
    "### c) raise:\n",
    "- The raise keyword is used to raise an exception. We can define what kind of error to raise, and the text to print to the user\n",
    "\n"
   ]
  },
  {
   "cell_type": "code",
   "execution_count": 11,
   "metadata": {},
   "outputs": [
    {
     "ename": "TypeError",
     "evalue": "Only integers are allowed",
     "output_type": "error",
     "traceback": [
      "\u001b[1;31m---------------------------------------------------------------------------\u001b[0m",
      "\u001b[1;31mTypeError\u001b[0m                                 Traceback (most recent call last)",
      "\u001b[1;32md:\\2_Data_Science_Master\\Data_Science_Master_2.0_Python_Exception_Handling_Task_Assignment_7\\Data_Science_Master_2.0_Python_Exception_Handling_Task_Assignment_7.ipynb Cell 24\u001b[0m line \u001b[0;36m3\n\u001b[0;32m      <a href='vscode-notebook-cell:/d%3A/2_Data_Science_Master/Data_Science_Master_2.0_Python_Exception_Handling_Task_Assignment_7/Data_Science_Master_2.0_Python_Exception_Handling_Task_Assignment_7.ipynb#X44sZmlsZQ%3D%3D?line=0'>1</a>\u001b[0m x \u001b[39m=\u001b[39m \u001b[39m\"\u001b[39m\u001b[39mhello\u001b[39m\u001b[39m\"\u001b[39m\n\u001b[0;32m      <a href='vscode-notebook-cell:/d%3A/2_Data_Science_Master/Data_Science_Master_2.0_Python_Exception_Handling_Task_Assignment_7/Data_Science_Master_2.0_Python_Exception_Handling_Task_Assignment_7.ipynb#X44sZmlsZQ%3D%3D?line=1'>2</a>\u001b[0m \u001b[39mif\u001b[39;00m \u001b[39mnot\u001b[39;00m \u001b[39mtype\u001b[39m(x) \u001b[39mis\u001b[39;00m \u001b[39mint\u001b[39m:\n\u001b[1;32m----> <a href='vscode-notebook-cell:/d%3A/2_Data_Science_Master/Data_Science_Master_2.0_Python_Exception_Handling_Task_Assignment_7/Data_Science_Master_2.0_Python_Exception_Handling_Task_Assignment_7.ipynb#X44sZmlsZQ%3D%3D?line=2'>3</a>\u001b[0m     \u001b[39mraise\u001b[39;00m \u001b[39mTypeError\u001b[39;00m(\u001b[39m\"\u001b[39m\u001b[39mOnly integers are allowed\u001b[39m\u001b[39m\"\u001b[39m)\n",
      "\u001b[1;31mTypeError\u001b[0m: Only integers are allowed"
     ]
    }
   ],
   "source": [
    "x = \"hello\"\n",
    "if not type(x) is int:\n",
    "    raise TypeError(\"Only integers are allowed\")\n"
   ]
  },
  {
   "cell_type": "markdown",
   "metadata": {},
   "source": [
    "### Q5: What are Custom Exceptions in python? Why do we need Custom Exceptions? Explain with an example. \n",
    "\n",
    "### Answer:\n",
    "- Custom exceptions allow us to create our own specific types of exceptions that can be used throughout the codebase, making it easier for other developers to understand.\n",
    "\n",
    "- In Python, we can define custom exceptions by creating a new class that is derived from the built-in Exception class.\n",
    "\n",
    "- Custom exceptions are used when you want to raise an exception that indicates a different kind of error occurred.\n",
    "\n",
    "They are useful in the following situations:\n",
    "\n",
    "- We wish to deal with something specific and particular in our code/software.\n",
    "\n",
    "- We want to include additional information when an exception is raised.\n",
    "\n",
    "- We want to improve code readability so that we can help maintain our code among other benefits.\n"
   ]
  },
  {
   "cell_type": "code",
   "execution_count": 12,
   "metadata": {},
   "outputs": [
    {
     "name": "stdout",
     "output_type": "stream",
     "text": [
      "This is a custom exception\n"
     ]
    }
   ],
   "source": [
    "class CustomError(Exception):\n",
    "    pass\n",
    "\n",
    "try:\n",
    "    raise CustomError(\"This is a custom exception\")\n",
    "except CustomError as e:\n",
    "    print(e)\n"
   ]
  },
  {
   "cell_type": "markdown",
   "metadata": {},
   "source": [
    "- In this example, CustomError is a user-defined error which inherits from the Exception class.\n",
    "- The try block contains the code that might generate an exception.\n",
    "- If an exception occurs, the rest of the code inside the try block is skipped. The except block catches the CustomError exception and executes its code"
   ]
  },
  {
   "cell_type": "markdown",
   "metadata": {},
   "source": [
    "### Q6: Create a custom exception class. Use this class to handle an exception."
   ]
  },
  {
   "cell_type": "code",
   "execution_count": null,
   "metadata": {},
   "outputs": [],
   "source": [
    "# My custom exception class\n",
    "class MyCustomException(Exception):\n",
    "    def __init__(self, message):\n",
    "        self.message = message\n",
    "    def __str__(self):\n",
    "        return self.message\n",
    "\n",
    "# Use the custom exception class to handle an exception\n",
    "try:\n",
    "    raise MyCustomException(\"This is a custom exception\")\n",
    "except MyCustomException as e:\n",
    "    print(e)\n"
   ]
  },
  {
   "cell_type": "markdown",
   "metadata": {},
   "source": [
    "### Second Example:\n"
   ]
  },
  {
   "cell_type": "code",
   "execution_count": 13,
   "metadata": {},
   "outputs": [],
   "source": [
    "age = int(input(\"enter your age\"))"
   ]
  },
  {
   "cell_type": "code",
   "execution_count": 14,
   "metadata": {},
   "outputs": [],
   "source": [
    "class validateage(Exception) : #Exception class is aready available\n",
    "    def __init__(self, msg) :\n",
    "        self.msg = msg"
   ]
  },
  {
   "cell_type": "code",
   "execution_count": 15,
   "metadata": {},
   "outputs": [],
   "source": [
    "def validate_age(age) : \n",
    "    if age < 0 : \n",
    "        raise validateage(\"age should not be lesser then zeor \" )\n",
    "    elif age > 200 : \n",
    "        raise validateage(\"age is too high \" )\n",
    "        \n",
    "    else :\n",
    "        print(\"age is valid\" )"
   ]
  },
  {
   "cell_type": "code",
   "execution_count": 16,
   "metadata": {},
   "outputs": [
    {
     "name": "stdout",
     "output_type": "stream",
     "text": [
      "age is valid\n"
     ]
    }
   ],
   "source": [
    "try : \n",
    "    age = int(input(\"enter your age\"))\n",
    "    validate_age(age)\n",
    "except validateage as e : \n",
    "    print(e)"
   ]
  }
 ],
 "metadata": {
  "kernelspec": {
   "display_name": "Python 3",
   "language": "python",
   "name": "python3"
  },
  "language_info": {
   "codemirror_mode": {
    "name": "ipython",
    "version": 3
   },
   "file_extension": ".py",
   "mimetype": "text/x-python",
   "name": "python",
   "nbconvert_exporter": "python",
   "pygments_lexer": "ipython3",
   "version": "3.11.4"
  }
 },
 "nbformat": 4,
 "nbformat_minor": 2
}
